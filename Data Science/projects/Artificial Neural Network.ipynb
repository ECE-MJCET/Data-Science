{
 "cells": [
  {
   "cell_type": "code",
   "id": "initial_id",
   "metadata": {
    "ExecuteTime": {
     "end_time": "2024-05-10T16:34:05.924530Z",
     "start_time": "2024-05-10T16:34:05.899559Z"
    }
   },
   "source": [
    "#data set\n",
    "\n",
    "#A\n",
    "a=[0, 0, 1, 1, 0, 0, \n",
    "   0, 1, 0, 0, 1, 0, \n",
    "   1, 1, 1, 1, 1, 1, \n",
    "   1, 0, 0, 0, 0, 1, \n",
    "   1, 0, 0, 0, 0, 1]\n",
    "\n",
    "#8\n",
    "b =[0, 1, 1, 1, 1, 0, \n",
    "    0, 1, 0, 0, 1, 0, \n",
    "    0, 1, 1, 1, 1, 0, \n",
    "    0, 1, 0, 0, 1, 0, \n",
    "    0, 1, 1, 1, 1, 0]\n",
    "\n",
    "#C\n",
    "c =[0, 1, 1, 1, 1, 0, \n",
    "    0, 1, 0, 0, 0, 0, \n",
    "    0, 1, 0, 0, 0, 0, \n",
    "    0, 1, 0, 0, 0, 0, \n",
    "    0, 1, 1, 1, 1, 0]"
   ],
   "outputs": [],
   "execution_count": 1
  },
  {
   "cell_type": "code",
   "id": "c9da231be4923d37",
   "metadata": {
    "ExecuteTime": {
     "end_time": "2024-05-10T16:34:05.956136Z",
     "start_time": "2024-05-10T16:34:05.933612Z"
    }
   },
   "source": [
    "#creating labels\n",
    "y=[[1,0,0],\n",
    "  [0,1,0],\n",
    "  [0,0,1]]\n",
    "     "
   ],
   "outputs": [],
   "execution_count": 2
  },
  {
   "cell_type": "code",
   "id": "c2c045094f415406",
   "metadata": {
    "ExecuteTime": {
     "end_time": "2024-05-10T16:34:05.988140Z",
     "start_time": "2024-05-10T16:34:05.967143Z"
    }
   },
   "source": [
    "import numpy as np\n",
    "import matplotlib.pyplot as plt"
   ],
   "outputs": [],
   "execution_count": 3
  },
  {
   "cell_type": "code",
   "id": "6c390799ebca17a1",
   "metadata": {
    "ExecuteTime": {
     "end_time": "2024-05-10T16:34:06.674336Z",
     "start_time": "2024-05-10T16:34:06.000138Z"
    }
   },
   "source": [
    "# visualize the data\n",
    "plt.imshow(np.array(a).reshape(5,6))\n",
    "plt.show()"
   ],
   "outputs": [
    {
     "data": {
      "text/plain": [
       "<Figure size 432x288 with 1 Axes>"
      ],
      "image/png": "[encoded data removed]"
     },
     "metadata": {},
     "output_type": "display_data"
    }
   ],
   "execution_count": 4
  },
  {
   "cell_type": "code",
   "id": "d78402e030e1dbca",
   "metadata": {
    "ExecuteTime": {
     "end_time": "2024-05-10T16:34:06.801425Z",
     "start_time": "2024-05-10T16:34:06.715870Z"
    }
   },
   "source": [
    "#convert data and  labels into numpy array\n",
    "x=[np.array(a).reshape(1,30),\n",
    "   np.array(b).reshape(1,30),\n",
    "   np.array(c).reshape(1,30)]\n",
    "\n",
    "y=np.array(y)\n",
    "print(x,\"\\n\\n\",y)"
   ],
   "outputs": [
    {
     "name": "stdout",
     "output_type": "stream",
     "text": [
      "[array([[0, 0, 1, 1, 0, 0, 0, 1, 0, 0, 1, 0, 1, 1, 1, 1, 1, 1, 1, 0, 0, 0,\n",
      "        0, 1, 1, 0, 0, 0, 0, 1]]), array([[0, 1, 1, 1, 1, 0, 0, 1, 0, 0, 1, 0, 0, 1, 1, 1, 1, 0, 0, 1, 0, 0,\n",
      "        1, 0, 0, 1, 1, 1, 1, 0]]), array([[0, 1, 1, 1, 1, 0, 0, 1, 0, 0, 0, 0, 0, 1, 0, 0, 0, 0, 0, 1, 0, 0,\n",
      "        0, 0, 0, 1, 1, 1, 1, 0]])] \n",
      "\n",
      " [[1 0 0]\n",
      " [0 1 0]\n",
      " [0 0 1]]\n"
     ]
    }
   ],
   "execution_count": 5
  },
  {
   "cell_type": "code",
   "id": "4fb356a9f4803b80",
   "metadata": {
    "ExecuteTime": {
     "end_time": "2024-05-10T16:34:06.916424Z",
     "start_time": "2024-05-10T16:34:06.817428Z"
    }
   },
   "source": [
    "#input(1,30)\n",
    "#hidden(1,5)\n",
    "#output(3,3)"
   ],
   "outputs": [],
   "execution_count": 6
  },
  {
   "cell_type": "code",
   "id": "60efc2def368453f",
   "metadata": {
    "ExecuteTime": {
     "end_time": "2024-05-10T16:34:07.227681Z",
     "start_time": "2024-05-10T16:34:06.938442Z"
    }
   },
   "source": [
    "#activation function\n",
    "\n",
    "def sigmoid(x):\n",
    "    return 1/(1 + np.exp(-x))"
   ],
   "outputs": [],
   "execution_count": 7
  },
  {
   "cell_type": "code",
   "id": "aa1581ef514d5ab",
   "metadata": {
    "ExecuteTime": {
     "end_time": "2024-05-10T16:34:07.372682Z",
     "start_time": "2024-05-10T16:34:07.251680Z"
    }
   },
   "source": [
    "#creating feed forward NN\n",
    "def f_forward(x,w1,w2):\n",
    "\n",
    "    #hidden layer\n",
    "    z1=x.dot(w1)\n",
    "    a1=sigmoid(z1)\n",
    "\n",
    "    #output layer\n",
    "    z2=a1.dot(w2)\n",
    "    a2=sigmoid(z2)\n",
    "    return(a2)"
   ],
   "outputs": [],
   "execution_count": 8
  },
  {
   "cell_type": "code",
   "id": "d70f6705bbeabc9",
   "metadata": {
    "ExecuteTime": {
     "end_time": "2024-05-10T16:34:07.684308Z",
     "start_time": "2024-05-10T16:34:07.413691Z"
    }
   },
   "source": [
    "#initilaize the weight\n",
    "\n",
    "def generate_wt(x, y):\n",
    "    l = []\n",
    "    for i in range(x * y):\n",
    "        l.append(np.random.randn())\n",
    "    return np.array(l).reshape(x, y)\n"
   ],
   "outputs": [],
   "execution_count": 9
  },
  {
   "cell_type": "code",
   "id": "ac78893d860fd486",
   "metadata": {
    "ExecuteTime": {
     "end_time": "2024-05-10T16:34:07.906849Z",
     "start_time": "2024-05-10T16:34:07.816321Z"
    }
   },
   "source": [
    "def loss(out,y):\n",
    "    s=(np.square(out-y))\n",
    "    s=np.sum(s)/len(y)\n",
    "    return s"
   ],
   "outputs": [],
   "execution_count": 10
  },
  {
   "cell_type": "code",
   "id": "29ec75d586c5c96f",
   "metadata": {
    "ExecuteTime": {
     "end_time": "2024-05-10T16:34:08.048443Z",
     "start_time": "2024-05-10T16:34:07.929849Z"
    }
   },
   "source": [
    "#back propagation\n",
    "def back_prop(x,y,w1,w2,alpha):\n",
    "\n",
    "    #hidden layer\n",
    "    z1=x.dot(w1)\n",
    "    a1=sigmoid(z1)\n",
    "\n",
    "    #output layer\n",
    "    z2=a1.dot(w2)\n",
    "    a2=sigmoid(z2)\n",
    "\n",
    "    d2=(a2-y)\n",
    "    d1=d1=np.multiply(d2.dot(w2.T), np.multiply(a1, 1-a1))\n",
    "\n",
    "    #gradient`\n",
    "    w1_adj=x.transpose().dot(d1)\n",
    "    w2_adj=a1.transpose().dot(d2)\n",
    "\n",
    "    w1=w1-(alpha * w1_adj)\n",
    "    w2=w2-(alpha * w2_adj)\n",
    "\n",
    "    return w1,w2"
   ],
   "outputs": [],
   "execution_count": 11
  },
  {
   "cell_type": "code",
   "id": "bba970b6b652cdcb",
   "metadata": {
    "ExecuteTime": {
     "end_time": "2024-05-10T16:34:08.097445Z",
     "start_time": "2024-05-10T16:34:08.055443Z"
    }
   },
   "source": [
    "def train(x, y, w1, w2, alpha=0.01, epoch=10):\n",
    "    acc = []\n",
    "    loss_list = []\n",
    "\n",
    "    for j in range(epoch):\n",
    "        l = []\n",
    "        for i in range(len(x)):\n",
    "            out = f_forward(x[i], w1, w2) \n",
    "            l.append((loss(out, y[i])))\n",
    "            w1, w2 = back_prop(x[i], y[i], w1, w2, alpha)\n",
    "        print(\"Epoch:\", j+1, \"acc:\", (1 - (sum(l) / len(x))) * 100)\n",
    "        acc.append((1 - (sum(l) /len(x)))*100)\n",
    "        loss_list.append(sum(l) / len(x))\n",
    "    return acc, loss_list, w1, w2\n"
   ],
   "outputs": [],
   "execution_count": 12
  },
  {
   "cell_type": "code",
   "id": "9f347db1fc69c0b5",
   "metadata": {
    "ExecuteTime": {
     "end_time": "2024-05-10T16:34:08.144445Z",
     "start_time": "2024-05-10T16:34:08.105447Z"
    }
   },
   "source": [
    "def predict(x,w1,w2):\n",
    "    out = f_forward(x,w1,w2)\n",
    "    maxm=0\n",
    "    k=0\n",
    "    for i in range(len(out[0])):\n",
    "        if maxm<out[0][i]:\n",
    "            maxm=out[0][i]\n",
    "        k=i\n",
    "        if(k==0):\n",
    "            print(\"image is of letter A\")\n",
    "        elif(k==1):\n",
    "            print(\"image is of letter B\")\n",
    "        else:\n",
    "            print(\"image is of letter C\")\n",
    "            plt.imshow(x.reshape(5,6))\n",
    "        plt.show()\n",
    "\n",
    "\n"
   ],
   "outputs": [],
   "execution_count": 13
  },
  {
   "cell_type": "code",
   "id": "dae87236fee1adf0",
   "metadata": {
    "ExecuteTime": {
     "end_time": "2024-05-10T16:34:08.224176Z",
     "start_time": "2024-05-10T16:34:08.154466Z"
    }
   },
   "source": [
    "w1=generate_wt(30,5)\n",
    "w2=generate_wt(5,3)\n",
    "print(w1,\"\\n\",w2)"
   ],
   "outputs": [
    {
     "name": "stdout",
     "output_type": "stream",
     "text": [
      "[[ 7.65600784e-01 -3.54689340e-01 -8.19439335e-01  4.84764220e-01\n",
      "  -1.98960129e-01]\n",
      " [-4.48351750e-01 -7.23942379e-01  5.20482783e-01 -5.34488410e-01\n",
      "  -5.95877227e-04]\n",
      " [ 5.91140439e-02 -1.42674897e+00 -7.24249999e-02 -1.21876138e+00\n",
      "   5.83701843e-01]\n",
      " [ 2.91434496e-01 -2.32882109e-01  3.16190986e-01 -5.33226065e-01\n",
      "  -4.71877220e-01]\n",
      " [-6.62368563e-01 -1.86568169e-01 -2.38708012e-01  1.59573658e+00\n",
      "  -4.88487404e-01]\n",
      " [ 1.12372350e+00  1.21490943e+00 -1.71313855e+00 -9.57830941e-01\n",
      "   1.57849479e+00]\n",
      " [ 1.23005061e-01 -9.07265635e-01 -1.19878098e+00 -7.29444745e-01\n",
      "  -3.79938256e-01]\n",
      " [-2.60294351e-01  1.98587836e+00  5.32953293e-01  4.75260163e-01\n",
      "  -3.11900817e-01]\n",
      " [ 3.67447410e-01  1.01240695e-01  6.04911997e-01  1.93313654e+00\n",
      "  -9.81282353e-01]\n",
      " [-8.66364948e-01 -2.61202707e-01 -1.20417603e+00 -1.09908752e+00\n",
      "   3.84603561e-01]\n",
      " [ 1.75585816e+00  4.83292129e-01 -1.07246392e+00 -2.15351701e-01\n",
      "  -1.03848141e+00]\n",
      " [-2.41620537e-01  1.89425584e+00 -6.09034480e-01  7.74101040e-01\n",
      "   6.61548823e-01]\n",
      " [-2.28764126e-01  1.21640692e+00 -9.79782948e-01  1.19945298e+00\n",
      "  -8.66134973e-01]\n",
      " [-1.25923920e-01  2.33307223e-01 -1.58070245e-01 -1.08090141e+00\n",
      "  -6.78013183e-01]\n",
      " [ 1.20169513e+00 -8.56522996e-01 -1.03245787e+00  1.69629589e-01\n",
      "   8.71272655e-01]\n",
      " [ 5.76142048e-01  5.67288845e-01  1.68669933e+00  1.10460961e+00\n",
      "   2.97944012e-01]\n",
      " [-7.93256090e-01 -1.40079237e-01  1.43314423e+00 -4.85086109e-01\n",
      "  -9.47866534e-01]\n",
      " [-6.55114624e-01 -7.04590839e-01  1.81033973e-02 -1.57181386e+00\n",
      "  -1.07188681e+00]\n",
      " [-5.47746811e-01 -7.87558439e-01 -1.89321328e+00  5.41625694e-01\n",
      "   1.04517778e+00]\n",
      " [-1.12856271e+00  8.30073158e-01  5.07054753e-02 -1.41068048e-01\n",
      "  -6.89762899e-02]\n",
      " [-1.38019890e+00 -7.92905775e-01  8.15208211e-01  1.10047765e+00\n",
      "  -4.53421062e-01]\n",
      " [ 1.02158206e+00  5.40947274e-01 -2.34440455e-01 -1.19751709e-01\n",
      "  -3.21083201e-01]\n",
      " [ 8.77926185e-01  2.04422215e+00  1.41186204e+00  3.39630308e-01\n",
      "   4.11251814e-01]\n",
      " [ 1.74772696e+00 -6.47006077e-01  6.58074235e-01 -1.77198210e+00\n",
      "   4.12376902e-01]\n",
      " [ 9.64834844e-01 -2.21767022e-01 -1.05887834e+00  1.37446064e+00\n",
      "   2.18750983e+00]\n",
      " [-7.66100828e-02  1.28150663e+00 -8.94231560e-01  7.40108161e-01\n",
      "   3.79328280e-01]\n",
      " [ 2.10252074e-01  2.12636905e-01 -1.29183088e+00 -1.21432240e+00\n",
      "  -3.04045871e-01]\n",
      " [ 1.28568888e+00 -5.98654845e-01 -1.00989933e+00 -1.09224466e+00\n",
      "  -4.29541979e-01]\n",
      " [-7.65431288e-01  8.27076525e-01 -1.34671162e+00 -9.94553760e-01\n",
      "  -1.61548890e+00]\n",
      " [ 1.06558720e+00 -4.11841029e-01  4.20373096e-01  1.53777114e+00\n",
      "  -1.92671121e-01]] \n",
      " [[-2.01427407  1.67478439  0.02122411]\n",
      " [ 1.00407871 -0.53483382  1.15454973]\n",
      " [-0.20095658  0.55299182  1.23476695]\n",
      " [-2.64994404  0.77350587 -0.22082362]\n",
      " [ 0.64440347 -0.39776684 -1.16176134]]\n"
     ]
    }
   ],
   "execution_count": 14
  },
  {
   "cell_type": "code",
   "id": "43cf4a596d510b29",
   "metadata": {
    "ExecuteTime": {
     "end_time": "2024-05-10T16:34:08.893408Z",
     "start_time": "2024-05-10T16:34:08.234179Z"
    }
   },
   "source": "acc, loss, w1, w2 = train(x, y, w1, w2, 0.1, 100)",
   "outputs": [
    {
     "name": "stdout",
     "output_type": "stream",
     "text": [
      "Epoch: 1 acc: 63.116887252250045\n",
      "Epoch: 2 acc: 67.0203518160749\n",
      "Epoch: 3 acc: 70.05988155253786\n",
      "Epoch: 4 acc: 72.4958843826222\n",
      "Epoch: 5 acc: 74.5398879543365\n",
      "Epoch: 6 acc: 76.28044529402096\n",
      "Epoch: 7 acc: 77.75583464468228\n",
      "Epoch: 8 acc: 78.99258213144387\n",
      "Epoch: 9 acc: 80.02055714599288\n",
      "Epoch: 10 acc: 80.87356030722542\n",
      "Epoch: 11 acc: 81.58524805672677\n",
      "Epoch: 12 acc: 82.18575478532073\n",
      "Epoch: 13 acc: 82.7002065871598\n",
      "Epoch: 14 acc: 83.14862709515313\n",
      "Epoch: 15 acc: 83.54653477505957\n",
      "Epoch: 16 acc: 83.90576042128404\n",
      "Epoch: 17 acc: 84.23524394112013\n",
      "Epoch: 18 acc: 84.54171458944181\n",
      "Epoch: 19 acc: 84.83023374817262\n",
      "Epoch: 20 acc: 85.10461201604352\n",
      "Epoch: 21 acc: 85.36772307673156\n",
      "Epoch: 22 acc: 85.62173743739578\n",
      "Epoch: 23 acc: 85.86829589196321\n",
      "Epoch: 24 acc: 86.10863841200522\n",
      "Epoch: 25 acc: 86.34370033129305\n",
      "Epoch: 26 acc: 86.57418456254464\n",
      "Epoch: 27 acc: 86.80061619430828\n",
      "Epoch: 28 acc: 87.02338405441148\n",
      "Epoch: 29 acc: 87.24277255538078\n",
      "Epoch: 30 acc: 87.45898622999036\n",
      "Epoch: 31 acc: 87.67216871977969\n",
      "Epoch: 32 acc: 87.88241751947598\n",
      "Epoch: 33 acc: 88.08979545050914\n",
      "Epoch: 34 acc: 88.29433959825656\n",
      "Epoch: 35 acc: 88.49606827317727\n",
      "Epoch: 36 acc: 88.69498642682998\n",
      "Epoch: 37 acc: 88.89108985692535\n",
      "Epoch: 38 acc: 89.08436846204104\n",
      "Epoch: 39 acc: 89.27480875014783\n",
      "Epoch: 40 acc: 89.46239576125721\n",
      "Epoch: 41 acc: 89.6471145301979\n",
      "Epoch: 42 acc: 89.82895118853162\n",
      "Epoch: 43 acc: 90.00789378331471\n",
      "Epoch: 44 acc: 90.18393287359578\n",
      "Epoch: 45 acc: 90.35706195229731\n",
      "Epoch: 46 acc: 90.52727773074292\n",
      "Epoch: 47 acc: 90.69458031498895\n",
      "Epoch: 48 acc: 90.85897329683415\n",
      "Epoch: 49 acc: 91.02046377753236\n",
      "Epoch: 50 acc: 91.17906233850887\n",
      "Epoch: 51 acc: 91.33478297052736\n",
      "Epoch: 52 acc: 91.48764297056769\n",
      "Epoch: 53 acc: 91.63766281399121\n",
      "Epoch: 54 acc: 91.7848660082674\n",
      "Epoch: 55 acc: 91.92927893351187\n",
      "Epoch: 56 acc: 92.07093067427382\n",
      "Epoch: 57 acc: 92.2098528463524\n",
      "Epoch: 58 acc: 92.34607942188133\n",
      "Epoch: 59 acc: 92.47964655546994\n",
      "Epoch: 60 acc: 92.61059241380846\n",
      "Epoch: 61 acc: 92.73895701082206\n",
      "Epoch: 62 acc: 92.8647820501855\n",
      "Epoch: 63 acc: 92.98811077677918\n",
      "Epoch: 64 acc: 93.10898783847912\n",
      "Epoch: 65 acc: 93.22745915952075\n",
      "Epoch: 66 acc: 93.34357182656376\n",
      "Epoch: 67 acc: 93.45737398850787\n",
      "Epoch: 68 acc: 93.56891477107119\n",
      "Epoch: 69 acc: 93.67824420714153\n",
      "Epoch: 70 acc: 93.78541318395143\n",
      "Epoch: 71 acc: 93.89047340820801\n",
      "Epoch: 72 acc: 93.99347739043455\n",
      "Epoch: 73 acc: 94.0944784499519\n",
      "Epoch: 74 acc: 94.1935307421494\n",
      "Epoch: 75 acc: 94.29068930996843\n",
      "Epoch: 76 acc: 94.38601016185048\n",
      "Epoch: 77 acc: 94.47955037878583\n",
      "Epoch: 78 acc: 94.57136825353874\n",
      "Epoch: 79 acc: 94.66152346561155\n",
      "Epoch: 80 acc: 94.75007729603334\n",
      "Epoch: 81 acc: 94.83709288658551\n",
      "Epoch: 82 acc: 94.92263554856405\n",
      "Epoch: 83 acc: 95.00677312653853\n",
      "Epoch: 84 acc: 95.08957642266913\n",
      "Epoch: 85 acc: 95.17111968676885\n",
      "Epoch: 86 acc: 95.25148117611252\n",
      "Epoch: 87 acc: 95.33074378647561\n",
      "Epoch: 88 acc: 95.40899575124962\n",
      "Epoch: 89 acc: 95.48633139754361\n",
      "Epoch: 90 acc: 95.56285193521421\n",
      "Epoch: 91 acc: 95.63866623428\n",
      "Epoch: 92 acc: 95.71389151470626\n",
      "Epoch: 93 acc: 95.78865382547681\n",
      "Epoch: 94 acc: 95.86308812148509\n",
      "Epoch: 95 acc: 95.93733765087426\n",
      "Epoch: 96 acc: 96.01155223723438\n",
      "Epoch: 97 acc: 96.08588488142405\n",
      "Epoch: 98 acc: 96.16048593177737\n",
      "Epoch: 99 acc: 96.23549392274803\n",
      "Epoch: 100 acc: 96.31102215364078\n"
     ]
    }
   ],
   "execution_count": 15
  },
  {
   "cell_type": "code",
   "id": "e1b72926eaef3e57",
   "metadata": {
    "ExecuteTime": {
     "end_time": "2024-05-10T16:34:09.737061Z",
     "start_time": "2024-05-10T16:34:08.900412Z"
    }
   },
   "source": [
    "import matplotlib.pyplot as plt\n",
    "\n",
    "# plotting accuracy\n",
    "plt.plot(acc)\n",
    "plt.ylabel(\"Accuracy\")  # Corrected typo here\n",
    "plt.xlabel(\"Epochs:\")   # Corrected typo here\n",
    "plt.show()\n"
   ],
   "outputs": [
    {
     "data": {
      "text/plain": [
       "<Figure size 432x288 with 1 Axes>"
      ],
      "image/png": "[encoded data removed]"
     },
     "metadata": {},
     "output_type": "display_data"
    }
   ],
   "execution_count": 16
  },
  {
   "cell_type": "code",
   "id": "11826e9bae02018d",
   "metadata": {
    "ExecuteTime": {
     "end_time": "2024-05-10T16:34:10.238320Z",
     "start_time": "2024-05-10T16:34:09.749057Z"
    }
   },
   "source": [
    "\n",
    "#plotting accuracy\n",
    "\n",
    "plt.plot(loss)\n",
    "plt.ylabel(\"loss\")\n",
    "plt.xlabel(\"Epochs:\")\n",
    "plt.show()"
   ],
   "outputs": [
    {
     "data": {
      "text/plain": [
       "<Figure size 432x288 with 1 Axes>"
      ],
      "image/png": "[encoded data removed]"
     },
     "metadata": {},
     "output_type": "display_data"
    }
   ],
   "execution_count": 17
  },
  {
   "cell_type": "code",
   "id": "4aa46d4de3429796",
   "metadata": {
    "ExecuteTime": {
     "end_time": "2024-05-10T16:34:10.283897Z",
     "start_time": "2024-05-10T16:34:10.244343Z"
    }
   },
   "source": [
    "print(w1,\"\\n\",w2)"
   ],
   "outputs": [
    {
     "name": "stdout",
     "output_type": "stream",
     "text": [
      "[[ 0.76560078 -0.35468934 -0.81943933  0.48476422 -0.19896013]\n",
      " [-0.55705397 -0.60657484  0.48372881 -0.21222187 -0.33239927]\n",
      " [-0.07938598 -1.0381294  -0.26318987 -1.27118422  0.72005147]\n",
      " [ 0.15293447  0.15573746  0.12542612 -0.58564891 -0.33552759]\n",
      " [-0.77107078 -0.06920063 -0.27546198  1.91800312 -0.8202908 ]\n",
      " [ 1.1237235   1.21490943 -1.71313855 -0.95783094  1.57849479]\n",
      " [ 0.12300506 -0.90726564 -1.19878098 -0.72944475 -0.37993826]\n",
      " [-0.39879437  2.37449793  0.34218842  0.42283732 -0.17555119]\n",
      " [ 0.36744741  0.1012407   0.604912    1.93313654 -0.98128235]\n",
      " [-0.86636495 -0.26120271 -1.20417603 -1.09908752  0.38460356]\n",
      " [ 2.26743278  0.73918369 -1.2932509  -0.39539658 -0.71738436]\n",
      " [-0.24162054  1.89425584 -0.60903448  0.77410104  0.66154882]\n",
      " [-0.25856193  1.48765895 -1.13379385  0.8247636  -0.39798195]\n",
      " [-0.26442394  0.62192679 -0.34883512 -1.13332426 -0.54166355]\n",
      " [ 1.71326975 -0.60063143 -1.25324485 -0.01041529  1.1923697 ]\n",
      " [ 1.08771667  0.82318041  1.46591235  0.92456473  0.61904106]\n",
      " [-0.28168147  0.11581233  1.21235725 -0.66513099 -0.62676949]\n",
      " [-0.68491243 -0.4333388  -0.1359075  -1.94650325 -0.60373379]\n",
      " [-0.57754462 -0.51630641 -2.04722418  0.16693631  1.5133308 ]\n",
      " [-1.23726493  0.94744069  0.0139515   0.18119849 -0.40077969]\n",
      " [-1.3801989  -0.79290578  0.81520821  1.10047765 -0.45342106]\n",
      " [ 1.02158206  0.54094727 -0.23444045 -0.11975171 -0.3210832 ]\n",
      " [ 1.41929861  2.02886168  1.34508596  0.53427481  0.26419583]\n",
      " [ 1.71792915 -0.37575404  0.50406334 -2.14667148  0.88052993]\n",
      " [ 0.93503704  0.04948501 -1.21288924  0.99977126  2.65566285]\n",
      " [-0.1853123   1.39887416 -0.93098553  1.0623747   0.04752488]\n",
      " [ 0.10154986  0.33000444 -1.32858485 -0.89205586 -0.63584927]\n",
      " [ 1.17698666 -0.48128731 -1.0466533  -0.76997812 -0.76134538]\n",
      " [-0.87413351  0.94444406 -1.38346559 -0.67228722 -1.9472923 ]\n",
      " [ 1.0357894  -0.140589    0.2663622   1.16308176  0.27548191]] \n",
      " [[-0.93792873  2.36881482 -2.92305905]\n",
      " [-1.2099079  -1.49001784  1.20063253]\n",
      " [-0.1617534   0.58800678  1.03364325]\n",
      " [-2.63082493  0.69458003 -0.25222195]\n",
      " [ 3.79138901 -2.71686496 -1.9829859 ]]\n"
     ]
    }
   ],
   "execution_count": 18
  },
  {
   "cell_type": "code",
   "id": "9c035d0911a980e7",
   "metadata": {
    "ExecuteTime": {
     "end_time": "2024-05-10T16:34:10.774188Z",
     "start_time": "2024-05-10T16:34:10.292890Z"
    }
   },
   "source": [
    "predict(x[2],w1,w2)"
   ],
   "outputs": [
    {
     "name": "stdout",
     "output_type": "stream",
     "text": [
      "image is of letter A\n",
      "image is of letter B\n",
      "image is of letter C\n"
     ]
    },
    {
     "data": {
      "text/plain": [
       "<Figure size 432x288 with 1 Axes>"
      ],
      "image/png": "[encoded data removed]"
     },
     "metadata": {},
     "output_type": "display_data"
    }
   ],
   "execution_count": 19
  },
  {
   "cell_type": "code",
   "id": "f9c486e7834ae32c",
   "metadata": {
    "ExecuteTime": {
     "end_time": "2024-05-10T16:34:11.265474Z",
     "start_time": "2024-05-10T16:34:10.782182Z"
    }
   },
   "source": [
    "predict(x[0],w1,w2)"
   ],
   "outputs": [
    {
     "name": "stdout",
     "output_type": "stream",
     "text": [
      "image is of letter A\n",
      "image is of letter B\n",
      "image is of letter C\n"
     ]
    },
    {
     "data": {
      "text/plain": [
       "<Figure size 432x288 with 1 Axes>"
      ],
      "image/png": "[encoded data removed]"
     },
     "metadata": {},
     "output_type": "display_data"
    }
   ],
   "execution_count": 20
  },
  {
   "metadata": {
    "ExecuteTime": {
     "end_time": "2024-05-10T16:34:11.281529Z",
     "start_time": "2024-05-10T16:34:11.270491Z"
    }
   },
   "cell_type": "code",
   "source": "",
   "id": "eecba460aae66805",
   "outputs": [],
   "execution_count": 20
  }
 ],
 "metadata": {
  "kernelspec": {
   "display_name": "Python 3",
   "language": "python",
   "name": "python3"
  },
  "language_info": {
   "codemirror_mode": {
    "name": "ipython",
    "version": 3
   },
   "file_extension": ".py",
   "mimetype": "text/x-python",
   "name": "python",
   "nbconvert_exporter": "python",
   "pygments_lexer": "ipython3",
   "version": "3.6.8"
  }
 },
 "nbformat": 4,
 "nbformat_minor": 5
}
