{
 "cells": [
  {
   "cell_type": "code",
   "id": "initial_id",
   "metadata": {
    "ExecuteTime": {
     "end_time": "2024-05-13T11:19:26.654074Z",
     "start_time": "2024-05-13T11:19:26.628075Z"
    }
   },
   "source": [
    "#data set\n",
    "\n",
    "#A\n",
    "a=[0, 0, 1, 1, 0, 0, \n",
    "   0, 1, 0, 0, 1, 0, \n",
    "   1, 1, 1, 1, 1, 1, \n",
    "   1, 0, 0, 0, 0, 1, \n",
    "   1, 0, 0, 0, 0, 1]\n",
    "\n",
    "#8\n",
    "b =[0, 1, 1, 1, 1, 0, \n",
    "    0, 1, 0, 0, 1, 0, \n",
    "    0, 1, 1, 1, 1, 0, \n",
    "    0, 1, 0, 0, 1, 0, \n",
    "    0, 1, 1, 1, 1, 0]\n",
    "\n",
    "#C\n",
    "c =[0, 1, 1, 1, 1, 0, \n",
    "    0, 1, 0, 0, 0, 0, \n",
    "    0, 1, 0, 0, 0, 0, \n",
    "    0, 1, 0, 0, 0, 0, \n",
    "    0, 1, 1, 1, 1, 0]"
   ],
   "outputs": [],
   "execution_count": 1
  },
  {
   "cell_type": "code",
   "id": "c9da231be4923d37",
   "metadata": {
    "ExecuteTime": {
     "end_time": "2024-05-13T11:19:26.791878Z",
     "start_time": "2024-05-13T11:19:26.658988Z"
    }
   },
   "source": [
    "#creating labels\n",
    "y=[[1,0,0],\n",
    "  [0,1,0],\n",
    "  [0,0,1]]\n",
    "     "
   ],
   "outputs": [],
   "execution_count": 2
  },
  {
   "cell_type": "code",
   "id": "c2c045094f415406",
   "metadata": {
    "ExecuteTime": {
     "end_time": "2024-05-13T11:19:26.824888Z",
     "start_time": "2024-05-13T11:19:26.797882Z"
    }
   },
   "source": [
    "import numpy as np\n",
    "import matplotlib.pyplot as plt"
   ],
   "outputs": [],
   "execution_count": 3
  },
  {
   "cell_type": "code",
   "id": "6c390799ebca17a1",
   "metadata": {
    "ExecuteTime": {
     "end_time": "2024-05-13T11:19:27.672674Z",
     "start_time": "2024-05-13T11:19:26.844909Z"
    }
   },
   "source": [
    "# visualize the data\n",
    "plt.imshow(np.array(a).reshape(5,6))\n",
    "plt.show()"
   ],
   "outputs": [
    {
     "data": {
      "text/plain": [
       "<Figure size 432x288 with 1 Axes>"
      ],
      "image/png": "[encoded data removed]"
     },
     "metadata": {},
     "output_type": "display_data"
    }
   ],
   "execution_count": 4
  },
  {
   "cell_type": "code",
   "id": "d78402e030e1dbca",
   "metadata": {
    "ExecuteTime": {
     "end_time": "2024-05-13T11:19:27.751673Z",
     "start_time": "2024-05-13T11:19:27.683674Z"
    }
   },
   "source": [
    "#convert data and  labels into numpy array\n",
    "x=[np.array(a).reshape(1,30),\n",
    "   np.array(b).reshape(1,30),\n",
    "   np.array(c).reshape(1,30)]\n",
    "\n",
    "y=np.array(y)\n",
    "print(x,\"\\n\\n\",y)"
   ],
   "outputs": [
    {
     "name": "stdout",
     "output_type": "stream",
     "text": [
      "[array([[0, 0, 1, 1, 0, 0, 0, 1, 0, 0, 1, 0, 1, 1, 1, 1, 1, 1, 1, 0, 0, 0,\n",
      "        0, 1, 1, 0, 0, 0, 0, 1]]), array([[0, 1, 1, 1, 1, 0, 0, 1, 0, 0, 1, 0, 0, 1, 1, 1, 1, 0, 0, 1, 0, 0,\n",
      "        1, 0, 0, 1, 1, 1, 1, 0]]), array([[0, 1, 1, 1, 1, 0, 0, 1, 0, 0, 0, 0, 0, 1, 0, 0, 0, 0, 0, 1, 0, 0,\n",
      "        0, 0, 0, 1, 1, 1, 1, 0]])] \n",
      "\n",
      " [[1 0 0]\n",
      " [0 1 0]\n",
      " [0 0 1]]\n"
     ]
    }
   ],
   "execution_count": 5
  },
  {
   "cell_type": "code",
   "id": "4fb356a9f4803b80",
   "metadata": {
    "ExecuteTime": {
     "end_time": "2024-05-13T11:19:27.799673Z",
     "start_time": "2024-05-13T11:19:27.765677Z"
    }
   },
   "source": [
    "#input(1,30)\n",
    "#hidden(1,5)\n",
    "#output(3,3)"
   ],
   "outputs": [],
   "execution_count": 6
  },
  {
   "cell_type": "code",
   "id": "60efc2def368453f",
   "metadata": {
    "ExecuteTime": {
     "end_time": "2024-05-13T11:19:27.845700Z",
     "start_time": "2024-05-13T11:19:27.812677Z"
    }
   },
   "source": [
    "#activation function\n",
    "\n",
    "def sigmoid(x):\n",
    "    return 1/(1 + np.exp(-x))"
   ],
   "outputs": [],
   "execution_count": 7
  },
  {
   "cell_type": "code",
   "id": "aa1581ef514d5ab",
   "metadata": {
    "ExecuteTime": {
     "end_time": "2024-05-13T11:19:27.908799Z",
     "start_time": "2024-05-13T11:19:27.864794Z"
    }
   },
   "source": [
    "#creating feed forward NN\n",
    "def f_forward(x,w1,w2):\n",
    "\n",
    "    #hidden layer\n",
    "    z1=x.dot(w1)\n",
    "    a1=sigmoid(z1)\n",
    "\n",
    "    #output layer\n",
    "    z2=a1.dot(w2)\n",
    "    a2=sigmoid(z2)\n",
    "    return(a2)"
   ],
   "outputs": [],
   "execution_count": 8
  },
  {
   "cell_type": "code",
   "id": "d70f6705bbeabc9",
   "metadata": {
    "ExecuteTime": {
     "end_time": "2024-05-13T11:19:27.938790Z",
     "start_time": "2024-05-13T11:19:27.919795Z"
    }
   },
   "source": [
    "#initilaize the weight\n",
    "\n",
    "def generate_wt(x, y):\n",
    "    l = []\n",
    "    for i in range(x * y):\n",
    "        l.append(np.random.randn())\n",
    "    return np.array(l).reshape(x, y)\n"
   ],
   "outputs": [],
   "execution_count": 9
  },
  {
   "cell_type": "code",
   "id": "ac78893d860fd486",
   "metadata": {
    "ExecuteTime": {
     "end_time": "2024-05-13T11:19:27.984798Z",
     "start_time": "2024-05-13T11:19:27.947793Z"
    }
   },
   "source": [
    "def loss(out,y):\n",
    "    s=(np.square(out-y))\n",
    "    s=np.sum(s)/len(y)\n",
    "    return s"
   ],
   "outputs": [],
   "execution_count": 10
  },
  {
   "cell_type": "code",
   "id": "29ec75d586c5c96f",
   "metadata": {
    "ExecuteTime": {
     "end_time": "2024-05-13T11:19:28.047793Z",
     "start_time": "2024-05-13T11:19:27.994798Z"
    }
   },
   "source": [
    "#back propagation\n",
    "def back_prop(x,y,w1,w2,alpha):\n",
    "\n",
    "    #hidden layer\n",
    "    z1=x.dot(w1)\n",
    "    a1=sigmoid(z1)\n",
    "\n",
    "    #output layer\n",
    "    z2=a1.dot(w2)\n",
    "    a2=sigmoid(z2)\n",
    "\n",
    "    d2=(a2-y)\n",
    "    d1=d1=np.multiply(d2.dot(w2.T), np.multiply(a1, 1-a1))\n",
    "\n",
    "    #gradient`\n",
    "    w1_adj=x.transpose().dot(d1)\n",
    "    w2_adj=a1.transpose().dot(d2)\n",
    "\n",
    "    w1=w1-(alpha * w1_adj)\n",
    "    w2=w2-(alpha * w2_adj)\n",
    "\n",
    "    return w1,w2"
   ],
   "outputs": [],
   "execution_count": 11
  },
  {
   "cell_type": "code",
   "id": "bba970b6b652cdcb",
   "metadata": {
    "ExecuteTime": {
     "end_time": "2024-05-13T11:19:28.113820Z",
     "start_time": "2024-05-13T11:19:28.056797Z"
    }
   },
   "source": [
    "def train(x, y, w1, w2, alpha=0.01, epoch=10):\n",
    "    acc = []\n",
    "    loss_list = []\n",
    "\n",
    "    for j in range(epoch):\n",
    "        l = []\n",
    "        for i in range(len(x)):\n",
    "            out = f_forward(x[i], w1, w2) \n",
    "            l.append((loss(out, y[i])))\n",
    "            w1, w2 = back_prop(x[i], y[i], w1, w2, alpha)\n",
    "        print(\"Epoch:\", j+1, \"acc:\", (1 - (sum(l) / len(x))) * 100)\n",
    "        acc.append((1 - (sum(l) /len(x)))*100)\n",
    "        loss_list.append(sum(l) / len(x))\n",
    "    return acc, loss_list, w1, w2\n"
   ],
   "outputs": [],
   "execution_count": 12
  },
  {
   "cell_type": "code",
   "id": "9f347db1fc69c0b5",
   "metadata": {
    "ExecuteTime": {
     "end_time": "2024-05-13T11:19:28.275456Z",
     "start_time": "2024-05-13T11:19:28.154360Z"
    }
   },
   "source": [
    "def predict(x,w1,w2):\n",
    "    out = f_forward(x,w1,w2)\n",
    "    maxm=0\n",
    "    k=0\n",
    "    for i in range(len(out[0])):\n",
    "        if maxm<out[0][i]:\n",
    "            maxm=out[0][i]\n",
    "        k=i\n",
    "        if(k==0):\n",
    "            print(\"image is of letter A\")\n",
    "        elif(k==1):\n",
    "            print(\"image is of letter B\")\n",
    "        else:\n",
    "            print(\"image is of letter C\")\n",
    "            plt.imshow(x.reshape(5,6))\n",
    "        plt.show()\n",
    "\n",
    "\n"
   ],
   "outputs": [],
   "execution_count": 13
  },
  {
   "cell_type": "code",
   "id": "dae87236fee1adf0",
   "metadata": {
    "ExecuteTime": {
     "end_time": "2024-05-13T11:19:28.485023Z",
     "start_time": "2024-05-13T11:19:28.294018Z"
    }
   },
   "source": [
    "w1=generate_wt(30,5)\n",
    "w2=generate_wt(5,3)\n",
    "print(w1,\"\\n\",w2)"
   ],
   "outputs": [
    {
     "name": "stdout",
     "output_type": "stream",
     "text": [
      "[[ 4.94469497e-02  2.68916358e-01  6.60127708e-01  1.23929308e+00\n",
      "  -3.95428259e-01]\n",
      " [-7.16087195e-01 -3.42057054e-01  9.66823754e-01 -1.44736697e-01\n",
      "  -2.98208994e-01]\n",
      " [ 1.54768792e+00  8.17391670e-02  1.29912592e+00 -7.80188035e-01\n",
      "   2.87387394e-01]\n",
      " [ 2.69848091e-01 -1.54191406e+00  8.36383851e-01 -7.79346131e-01\n",
      "   1.78659715e-01]\n",
      " [ 2.59343834e-01 -4.00553866e-01 -4.34946011e-01 -9.83872608e-01\n",
      "  -9.91280438e-01]\n",
      " [ 6.64404593e-01 -8.64540776e-01 -4.18352994e-01  1.53590333e+00\n",
      "   1.27479645e+00]\n",
      " [ 2.77118382e-01  7.79792435e-01  1.34360599e+00 -8.82254160e-01\n",
      "   5.79558187e-01]\n",
      " [ 1.74736709e+00 -1.09321809e+00 -1.51601948e-01 -1.77097745e-01\n",
      "   1.18355708e+00]\n",
      " [ 8.97846521e-01  1.41093063e+00  4.67101961e-01 -1.20821550e-01\n",
      "   3.90568361e-01]\n",
      " [ 3.63404790e-01 -5.55742586e-01 -1.59969029e+00  1.32362868e+00\n",
      "  -1.07324957e-01]\n",
      " [-1.45544921e+00  4.82963946e-01  1.51511778e+00 -1.27197957e+00\n",
      "   6.09306829e-01]\n",
      " [-1.09411060e+00 -2.73446773e-01  3.61165124e-01  3.74030539e-01\n",
      "  -6.74024796e-01]\n",
      " [ 1.52924222e-01  1.28106026e+00  1.83843303e+00 -8.21814828e-01\n",
      "  -6.29741120e-01]\n",
      " [ 5.29798446e-01  7.70567162e-01  6.56632408e-01 -4.59484367e-01\n",
      "   1.06238151e-01]\n",
      " [ 8.12377893e-01  1.15354091e-02 -1.19599177e+00 -9.67775409e-01\n",
      "  -1.49230109e+00]\n",
      " [ 2.94170190e-01 -6.63688204e-01  3.94748472e-01  1.72166912e-01\n",
      "   1.97225896e-01]\n",
      " [-4.79094227e-01  2.60537947e-01  1.14045676e+00  2.69546923e-01\n",
      "  -2.21376328e+00]\n",
      " [-4.42343015e-01  2.37528343e-01  1.47407226e-02 -2.00932907e+00\n",
      "   1.22534766e+00]\n",
      " [-1.86478093e-01 -1.09719750e+00  1.00943677e+00 -5.99199775e-01\n",
      "   7.63687203e-01]\n",
      " [-7.14337443e-01  1.00734860e+00 -1.61258198e+00 -2.36478901e-01\n",
      "  -1.09524951e+00]\n",
      " [ 8.72882215e-01 -4.75296211e-01  1.17855186e-01 -4.83035033e-01\n",
      "  -6.29264641e-01]\n",
      " [-5.66212632e-01  1.30217298e+00  4.37340317e-01 -7.61551553e-01\n",
      "  -2.89678540e-01]\n",
      " [ 7.03273568e-01  1.79836844e+00 -7.17320772e-01 -3.92498238e-01\n",
      "  -6.94877974e-01]\n",
      " [-1.83122490e-01  6.06361399e-01 -6.47703537e-01 -1.20169225e+00\n",
      "   5.54036790e-02]\n",
      " [-3.16880793e-01 -1.12404879e+00  1.09321492e+00 -1.42553829e+00\n",
      "  -4.32745006e-01]\n",
      " [ 1.49077380e+00  1.61451875e+00 -5.30258328e-01 -1.73567525e-03\n",
      "   8.33103353e-01]\n",
      " [-1.51923532e+00  2.30005162e-01  5.66269166e-02  6.05804444e-01\n",
      "   1.37760320e+00]\n",
      " [-2.50904588e+00  2.29116872e+00 -7.83314590e-02 -2.73399094e-02\n",
      "   1.08210851e+00]\n",
      " [ 8.39548503e-01  5.29925787e-01  3.71696420e-01  1.76781110e-01\n",
      "   1.72992160e+00]\n",
      " [ 3.15012232e-01  8.10118267e-01 -4.18579000e-02  3.00276161e-01\n",
      "   3.00952507e-01]] \n",
      " [[ 0.13703006  0.3695178  -1.05041614]\n",
      " [ 0.902343   -1.34122591 -0.06726819]\n",
      " [-1.24265837 -0.35184895 -0.81999658]\n",
      " [-1.04598675  1.12900078  0.30898218]\n",
      " [ 3.22314427  0.90332877 -0.30861271]]\n"
     ]
    }
   ],
   "execution_count": 14
  },
  {
   "cell_type": "code",
   "id": "43cf4a596d510b29",
   "metadata": {
    "ExecuteTime": {
     "end_time": "2024-05-13T11:19:29.328427Z",
     "start_time": "2024-05-13T11:19:28.500017Z"
    }
   },
   "source": "acc, loss, w1, w2 = train(x, y, w1, w2, 0.1, 100)",
   "outputs": [
    {
     "name": "stdout",
     "output_type": "stream",
     "text": [
      "Epoch: 1 acc: 60.5874839794567\n",
      "Epoch: 2 acc: 63.008961888303006\n",
      "Epoch: 3 acc: 65.87082333209659\n",
      "Epoch: 4 acc: 68.21358594728042\n",
      "Epoch: 5 acc: 70.09620993275479\n",
      "Epoch: 6 acc: 71.67452442413779\n",
      "Epoch: 7 acc: 72.98968422877157\n",
      "Epoch: 8 acc: 74.07196981352394\n",
      "Epoch: 9 acc: 74.96186914490207\n",
      "Epoch: 10 acc: 75.70296823712519\n",
      "Epoch: 11 acc: 76.33533629533379\n",
      "Epoch: 12 acc: 76.89286444465613\n",
      "Epoch: 13 acc: 77.40279582615763\n",
      "Epoch: 14 acc: 77.88608303729906\n",
      "Epoch: 15 acc: 78.35786716790523\n",
      "Epoch: 16 acc: 78.82778356521291\n",
      "Epoch: 17 acc: 79.30013634450508\n",
      "Epoch: 18 acc: 79.77430298890012\n",
      "Epoch: 19 acc: 80.2458761738476\n",
      "Epoch: 20 acc: 80.70872240867753\n",
      "Epoch: 21 acc: 81.15735416586705\n",
      "Epoch: 22 acc: 81.58852068713838\n",
      "Epoch: 23 acc: 82.00143071494789\n",
      "Epoch: 24 acc: 82.39700652850208\n",
      "Epoch: 25 acc: 82.77696040212876\n",
      "Epoch: 26 acc: 83.14316437969667\n",
      "Epoch: 27 acc: 83.4973649700205\n",
      "Epoch: 28 acc: 83.84111800785456\n",
      "Epoch: 29 acc: 84.17582284003196\n",
      "Epoch: 30 acc: 84.50278513047238\n",
      "Epoch: 31 acc: 84.82327556984903\n",
      "Epoch: 32 acc: 85.13857160661468\n",
      "Epoch: 33 acc: 85.44997805468688\n",
      "Epoch: 34 acc: 85.75882559493827\n",
      "Epoch: 35 acc: 86.06644641362786\n",
      "Epoch: 36 acc: 86.37412477167973\n",
      "Epoch: 37 acc: 86.68301818172323\n",
      "Epoch: 38 acc: 86.99404352654696\n",
      "Epoch: 39 acc: 87.30772443558776\n",
      "Epoch: 40 acc: 87.62400582094972\n",
      "Epoch: 41 acc: 87.94206392767556\n",
      "Epoch: 42 acc: 88.26017667917642\n",
      "Epoch: 43 acc: 88.57575447926588\n",
      "Epoch: 44 acc: 88.88562486585603\n",
      "Epoch: 45 acc: 89.18657020199934\n",
      "Epoch: 46 acc: 89.47595696059625\n",
      "Epoch: 47 acc: 89.75219560138315\n",
      "Epoch: 48 acc: 90.01485182160712\n",
      "Epoch: 49 acc: 90.26443623188476\n",
      "Epoch: 50 acc: 90.50204590357495\n",
      "Epoch: 51 acc: 90.72902720905749\n",
      "Epoch: 52 acc: 90.94674090396485\n",
      "Epoch: 53 acc: 91.15643278647111\n",
      "Epoch: 54 acc: 91.35918013570866\n",
      "Epoch: 55 acc: 91.5558822513727\n",
      "Epoch: 56 acc: 91.74727262524975\n",
      "Epoch: 57 acc: 91.93393961829398\n",
      "Epoch: 58 acc: 92.1163489025789\n",
      "Epoch: 59 acc: 92.2948645977917\n",
      "Epoch: 60 acc: 92.46976793686343\n",
      "Epoch: 61 acc: 92.64127320985048\n",
      "Epoch: 62 acc: 92.80954113678665\n",
      "Epoch: 63 acc: 92.97468996969612\n",
      "Epoch: 64 acc: 93.13680465533851\n",
      "Epoch: 65 acc: 93.29594437022651\n",
      "Epoch: 66 acc: 93.45214870042622\n",
      "Epoch: 67 acc: 93.6054426959227\n",
      "Epoch: 68 acc: 93.7558409896787\n",
      "Epoch: 69 acc: 93.90335113748236\n",
      "Epoch: 70 acc: 94.04797630673414\n",
      "Epoch: 71 acc: 94.18971741996701\n",
      "Epoch: 72 acc: 94.32857484123326\n",
      "Epoch: 73 acc: 94.46454967955623\n",
      "Epoch: 74 acc: 94.59764477253738\n",
      "Epoch: 75 acc: 94.72786540417954\n",
      "Epoch: 76 acc: 94.85521980346047\n",
      "Epoch: 77 acc: 94.97971946374871\n",
      "Epoch: 78 acc: 95.10137931752077\n",
      "Epoch: 79 acc: 95.22021779583949\n",
      "Epoch: 80 acc: 95.3362567975909\n",
      "Epoch: 81 acc: 95.44952158949563\n",
      "Epoch: 82 acc: 95.56004065438141\n",
      "Epoch: 83 acc: 95.66784550210741\n",
      "Epoch: 84 acc: 95.77297045484463\n",
      "Epoch: 85 acc: 95.8754524161186\n",
      "Epoch: 86 acc: 95.97533063107909\n",
      "Epoch: 87 acc: 96.0726464438419\n",
      "Epoch: 88 acc: 96.167443056414\n",
      "Epoch: 89 acc: 96.25976529262539\n",
      "Epoch: 90 acc: 96.3496593696146\n",
      "Epoch: 91 acc: 96.43717267871307\n",
      "Epoch: 92 acc: 96.52235357701761\n",
      "Epoch: 93 acc: 96.60525119050195\n",
      "Epoch: 94 acc: 96.68591522917549\n",
      "Epoch: 95 acc: 96.76439581453\n",
      "Epoch: 96 acc: 96.84074331930826\n",
      "Epoch: 97 acc: 96.91500821946923\n",
      "Epoch: 98 acc: 96.98724095810272\n",
      "Epoch: 99 acc: 97.05749182095403\n",
      "Epoch: 100 acc: 97.12581082315039\n"
     ]
    }
   ],
   "execution_count": 15
  },
  {
   "cell_type": "code",
   "id": "e1b72926eaef3e57",
   "metadata": {
    "ExecuteTime": {
     "end_time": "2024-05-13T11:19:30.208664Z",
     "start_time": "2024-05-13T11:19:29.341431Z"
    }
   },
   "source": [
    "import matplotlib.pyplot as plt\n",
    "\n",
    "# plotting accuracy\n",
    "plt.plot(acc)\n",
    "plt.ylabel(\"Accuracy\")  # Corrected typo here\n",
    "plt.xlabel(\"Epochs:\")   # Corrected typo here\n",
    "plt.show()\n"
   ],
   "outputs": [
    {
     "data": {
      "text/plain": [
       "<Figure size 432x288 with 1 Axes>"
      ],
      "image/png": "[encoded data removed]"
     },
     "metadata": {},
     "output_type": "display_data"
    }
   ],
   "execution_count": 16
  },
  {
   "cell_type": "code",
   "id": "11826e9bae02018d",
   "metadata": {
    "ExecuteTime": {
     "end_time": "2024-05-13T11:19:31.201644Z",
     "start_time": "2024-05-13T11:19:30.220664Z"
    }
   },
   "source": [
    "\n",
    "#plotting accuracy\n",
    "\n",
    "plt.plot(loss)\n",
    "plt.ylabel(\"loss\")\n",
    "plt.xlabel(\"Epochs:\")\n",
    "plt.show()"
   ],
   "outputs": [
    {
     "data": {
      "text/plain": [
       "<Figure size 432x288 with 1 Axes>"
      ],
      "image/png": "[encoded data removed]"
     },
     "metadata": {},
     "output_type": "display_data"
    }
   ],
   "execution_count": 17
  },
  {
   "cell_type": "code",
   "id": "4aa46d4de3429796",
   "metadata": {
    "ExecuteTime": {
     "end_time": "2024-05-13T11:19:31.316327Z",
     "start_time": "2024-05-13T11:19:31.250247Z"
    }
   },
   "source": [
    "print(w1,\"\\n\",w2)"
   ],
   "outputs": [
    {
     "name": "stdout",
     "output_type": "stream",
     "text": [
      "[[ 0.04944695  0.26891636  0.66012771  1.23929308 -0.39542826]\n",
      " [-1.07403306 -0.28351365  1.13829497  0.4379051  -0.87721091]\n",
      " [ 1.21780212  0.35338133  1.46990755 -0.20165139  0.2729736 ]\n",
      " [-0.0600377  -1.27027189  1.00716548 -0.20080949  0.16424592]\n",
      " [-0.09860204 -0.34201046 -0.2634748  -0.40123081 -1.57028236]\n",
      " [ 0.66440459 -0.86454078 -0.41835299  1.53590333  1.27479645]\n",
      " [ 0.27711838  0.77979244  1.34360599 -0.88225416  0.57955819]\n",
      " [ 1.4174813  -0.82157593  0.01917968  0.4014389   1.16914329]\n",
      " [ 0.89784652  1.41093063  0.46710196 -0.12082155  0.39056836]\n",
      " [ 0.36340479 -0.55574259 -1.59969029  1.32362868 -0.10732496]\n",
      " [-0.39575256  0.68583263  1.55522923 -0.96590085  0.7713615 ]\n",
      " [-1.0941106  -0.27344677  0.36116512  0.37403054 -0.6740248 ]\n",
      " [ 0.1809843   1.49415902  1.83774344 -0.82591998 -0.06515299]\n",
      " [ 0.19991265  1.04220933  0.82741403  0.11905228  0.09182436]\n",
      " [ 1.87207454  0.21440409 -1.15588032 -0.66169669 -1.33024642]\n",
      " [ 1.35386683 -0.46081952  0.43485992  0.47824563  0.35928056]\n",
      " [ 0.58060242  0.46340663  1.1805682   0.57562564 -2.05170861]\n",
      " [-0.41428294  0.4506271   0.01405113 -2.01343422  1.78993579]\n",
      " [-0.15841802 -0.88409874  1.00874718 -0.60330493  1.32827533]\n",
      " [-1.07228331  1.06589201 -1.44111076  0.3461629  -1.67425143]\n",
      " [ 0.87288221 -0.47529621  0.11785519 -0.48303503 -0.62926464]\n",
      " [-0.56621263  1.30217298  0.43734032 -0.76155155 -0.28967854]\n",
      " [ 1.73491013  1.78813836 -0.67651974 -0.08231436 -1.09741143]\n",
      " [-0.15506241  0.81946016 -0.64839313 -1.2057974   0.6199918 ]\n",
      " [-0.28882072 -0.91095003  1.09252533 -1.42964344  0.13184312]\n",
      " [ 1.13282793  1.67306216 -0.35878711  0.58090612  0.25410144]\n",
      " [-1.87718119  0.28854857  0.22809813  1.18844624  0.79860128]\n",
      " [-2.86699175  2.34971213  0.09313976  0.55530189  0.5031066 ]\n",
      " [ 0.48160263  0.58846919  0.54316764  0.75942291  1.15091968]\n",
      " [ 0.34307231  1.02321703 -0.04254749  0.29617101  0.86554063]] \n",
      " [[ 0.70082288  1.35165743 -2.98603817]\n",
      " [-0.42912058 -0.94361227  0.50037007]\n",
      " [-1.87409058 -0.39714448 -0.72458792]\n",
      " [-2.1327091   1.1598814   1.48850267]\n",
      " [ 3.73779742 -2.26187729  0.42146617]]\n"
     ]
    }
   ],
   "execution_count": 18
  },
  {
   "cell_type": "code",
   "id": "9c035d0911a980e7",
   "metadata": {
    "ExecuteTime": {
     "end_time": "2024-05-13T11:25:13.919869Z",
     "start_time": "2024-05-13T11:25:10.853657Z"
    }
   },
   "source": "predict(x[2],w1,w2)",
   "outputs": [
    {
     "name": "stdout",
     "output_type": "stream",
     "text": [
      "image is of letter A\n",
      "image is of letter B\n",
      "image is of letter C\n"
     ]
    },
    {
     "data": {
      "text/plain": [
       "<Figure size 432x288 with 1 Axes>"
      ],
      "image/png": "[encoded data removed]"
     },
     "metadata": {},
     "output_type": "display_data"
    }
   ],
   "execution_count": 22
  },
  {
   "cell_type": "code",
   "id": "f9c486e7834ae32c",
   "metadata": {
    "ExecuteTime": {
     "end_time": "2024-05-13T11:19:33.009587Z",
     "start_time": "2024-05-13T11:19:32.188661Z"
    }
   },
   "source": [
    "predict(x[0],w1,w2)"
   ],
   "outputs": [
    {
     "name": "stdout",
     "output_type": "stream",
     "text": [
      "image is of letter A\n",
      "image is of letter B\n",
      "image is of letter C\n"
     ]
    },
    {
     "data": {
      "text/plain": [
       "<Figure size 432x288 with 1 Axes>"
      ],
      "image/png": "[encoded data removed]"
     },
     "metadata": {},
     "output_type": "display_data"
    }
   ],
   "execution_count": 20
  },
  {
   "metadata": {
    "ExecuteTime": {
     "end_time": "2024-05-13T11:19:33.040279Z",
     "start_time": "2024-05-13T11:19:33.009587Z"
    }
   },
   "cell_type": "code",
   "source": "",
   "id": "eecba460aae66805",
   "outputs": [],
   "execution_count": 20
  }
 ],
 "metadata": {
  "kernelspec": {
   "display_name": "Python 3",
   "language": "python",
   "name": "python3"
  },
  "language_info": {
   "codemirror_mode": {
    "name": "ipython",
    "version": 3
   },
   "file_extension": ".py",
   "mimetype": "text/x-python",
   "name": "python",
   "nbconvert_exporter": "python",
   "pygments_lexer": "ipython3",
   "version": "3.6.8"
  }
 },
 "nbformat": 4,
 "nbformat_minor": 5
}
